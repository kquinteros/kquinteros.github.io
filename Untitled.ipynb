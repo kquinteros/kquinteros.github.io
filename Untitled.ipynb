{
 "cells": [
  {
   "cell_type": "code",
   "execution_count": 1,
   "id": "4243d74a-7b4a-4487-af05-3eb112331bff",
   "metadata": {},
   "outputs": [
    {
     "data": {
      "text/html": [
       "0.961121733588273"
      ],
      "text/latex": [
       "0.961121733588273"
      ],
      "text/markdown": [
       "0.961121733588273"
      ],
      "text/plain": [
       "[1] 0.9611217"
      ]
     },
     "metadata": {},
     "output_type": "display_data"
    }
   ],
   "source": [
    "3016/3138"
   ]
  },
  {
   "cell_type": "code",
   "execution_count": 2,
   "id": "55d48bd0-5f01-43ef-8416-f158ad752c49",
   "metadata": {},
   "outputs": [
    {
     "data": {
      "text/html": [
       "520.225464190981"
      ],
      "text/latex": [
       "520.225464190981"
      ],
      "text/markdown": [
       "520.225464190981"
      ],
      "text/plain": [
       "[1] 520.2255"
      ]
     },
     "metadata": {},
     "output_type": "display_data"
    }
   ],
   "source": [
    "500/(3016/3138)"
   ]
  },
  {
   "cell_type": "code",
   "execution_count": null,
   "id": "9773ed8b-bd93-4e35-813d-fd5e4fc05e90",
   "metadata": {},
   "outputs": [],
   "source": []
  }
 ],
 "metadata": {
  "kernelspec": {
   "display_name": "R",
   "language": "R",
   "name": "ir"
  },
  "language_info": {
   "codemirror_mode": "r",
   "file_extension": ".r",
   "mimetype": "text/x-r-source",
   "name": "R",
   "pygments_lexer": "r",
   "version": "4.2.1"
  }
 },
 "nbformat": 4,
 "nbformat_minor": 5
}
